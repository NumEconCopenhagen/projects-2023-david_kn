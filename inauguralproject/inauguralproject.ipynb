{
 "cells": [
  {
   "attachments": {},
   "cell_type": "markdown",
   "metadata": {},
   "source": [
    "# Inargual Project\n",
    "\n",
    "Imports and set magics:"
   ]
  },
  {
   "cell_type": "code",
   "execution_count": null,
   "metadata": {},
   "outputs": [],
   "source": [
    "from inauguralproject import *\n",
    "\n",
    "%load_ext autoreload\n",
    "%autoreload 2"
   ]
  },
  {
   "attachments": {},
   "cell_type": "markdown",
   "metadata": {},
   "source": [
    "# Question 1\n",
    "\n",
    "Given that household members (one male and one female) jointly maximizes household utility, we illustrate how the ratio between optimal hours working home between each member changes as alpha and sigma varies:"
   ]
  },
  {
   "cell_type": "code",
   "execution_count": null,
   "metadata": {},
   "outputs": [],
   "source": [
    "def HF_HM_ratio(alpha_values, sigma_values):\n",
    "\n",
    "    # Create a 3x3 zero-matrix, in which results are stored.\n",
    "    results = np.zeros([3,3])\n",
    "\n",
    "    # Loops over entry in lists of alpha values and sigma values.\n",
    "    for i, alpha in enumerate(alpha_values):\n",
    "        for j, sigma in enumerate(sigma_values):\n",
    "\n",
    "            model = HouseholdSpecializationModelClass(alpha=alpha, sigma=sigma)\n",
    "\n",
    "            model.par.alpha = alpha\n",
    "            model.par.sigma = sigma\n",
    "\n",
    "            discrete_output = model.solve_discrete()\n",
    "\n",
    "            optimalHM = discrete_output.HM\n",
    "            optimalHF = discrete_output.HF\n",
    "\n",
    "            if optimalHM == 0:\n",
    "                print('Divided by zero fail encountered!')\n",
    "            else:\n",
    "                results[i,j] = optimalHF / optimalHM\n",
    "\n",
    "    return results \n",
    "\n",
    "# List of values of alpha\n",
    "alpha_values = [0.25, 0.5, 0.75]\n",
    "# List of values of sigma\n",
    "sigma_values = [0.5, 1, 1.5]\n",
    "# Matrix of discrete outputs  \n",
    "HFHM = HF_HM_ratio(alpha_values, sigma_values)\n",
    "\n",
    "print(HFHM)\n",
    "\n",
    "alpha_values, sigma_values = np.meshgrid(alpha_values,sigma_values,indexing='ij')\n",
    "\n",
    "fig = plt.figure() # create the figure\n",
    "ax = fig.add_subplot(1,1,1,projection='3d') # create a 3d type axis\n",
    "ax.plot_surface(alpha_values,sigma_values,HFHM);\n",
    "ax.invert_xaxis()\n"
   ]
  },
  {
   "cell_type": "code",
   "execution_count": null,
   "metadata": {},
   "outputs": [],
   "source": [
    "import matplotlib.pyplot as plt\n",
    "\n",
    "fig, ax = plt.subplots(subplot_kw={\"projection\": \"3d\"})\n",
    "ax.scatter(alpha_values, sigma_values, HFHM)\n",
    "\n",
    "\n",
    "ax.invert_xaxis()\n",
    "\n",
    "ax.set_xticklabels(alpha_values)\n",
    "ax.set_yticklabels(sigma_values)\n",
    "ax.set_zticklabels(HFHM)\n",
    "\n",
    "ax.set_xlabel('Alpha')\n",
    "ax.set_ylabel('Sigma')\n",
    "ax.set_zlabel('HFHM')\n",
    "\n",
    "plt.show()"
   ]
  },
  {
   "attachments": {},
   "cell_type": "markdown",
   "metadata": {},
   "source": [
    "# Question 2"
   ]
  },
  {
   "cell_type": "code",
   "execution_count": 4,
   "metadata": {},
   "outputs": [
    {
     "name": "stdout",
     "output_type": "stream",
     "text": [
      "[5.  4.5 4.5 4.  4. ]\n",
      "[4.  4.5 4.5 4.5 5. ]\n"
     ]
    },
    {
     "data": {
      "image/png": "[encoded data removed]",
      "text/plain": [
       "<Figure size 640x480 with 1 Axes>"
      ]
     },
     "metadata": {},
     "output_type": "display_data"
    }
   ],
   "source": [
    "model2 = HouseholdSpecializationModelClass()\n",
    "\n",
    "WM = 1\n",
    "WF_list = model2.par.wF_vec\n",
    "\n",
    "# Calculates optimal choices of HM, LM, HF, LF from discrete choice set given WF values \n",
    "OptChoiceDiscrete = model2.solve_wF_vec(discrete=True)\n",
    "\n",
    "HF = OptChoiceDiscrete[3] # List with optimal HF given logWFWH\n",
    "HM = OptChoiceDiscrete[1] # List with optimal HM given logWFWH\n",
    "\n",
    "print(HF)\n",
    "print(HM)\n",
    "\n",
    "# Log-transformations\n",
    "\n",
    "logWFWH_list = np.log(WF_list / WM)\n",
    "logHFHM_list = np.log(HF / HM)\n",
    "\n",
    "# Plot scatter of log(WF/WM) against log(HF/HM) given WF values\n",
    "\n",
    "plt.scatter(logWFWH_list, logHFHM_list)\n",
    "\n",
    "plt.xlabel(\"log(WF/WM)\")\n",
    "plt.ylabel(\"log(HF/HM)\")\n",
    "\n",
    "plt.show()"
   ]
  },
  {
   "attachments": {},
   "cell_type": "markdown",
   "metadata": {},
   "source": [
    "# Question 3"
   ]
  },
  {
   "cell_type": "code",
   "execution_count": null,
   "metadata": {},
   "outputs": [],
   "source": [
    "# Calculates optimal choices of HM, LM, HF, LF from continouos choice set given WF values \n",
    "model3 = HouseholdSpecializationModelClass()\n",
    "PlotDataContinuous = model3.solve_wF_vec()\n",
    "\n",
    "HF = PlotDataContinuous[3] # List with optimal HF given logWFWH\n",
    "HM = PlotDataContinuous[1] # List with optimal HM given logWFWH\n",
    "\n",
    "print(HF)\n",
    "print(HM)\n",
    "\n",
    "\n",
    "# Log-transformation\n",
    "logHFHM = np.log(HF / HM)\n",
    "\n",
    "# Plot scatter of log(WF/WM) against log(HF/HM) given WF values\n",
    "plt.scatter(logWFWH_list, logHFHM)\n",
    "plt.xlabel(\"log(WF/WM)\")\n",
    "plt.ylabel(\"log(HF/HM)\")\n",
    "plt.show()"
   ]
  },
  {
   "attachments": {},
   "cell_type": "markdown",
   "metadata": {},
   "source": [
    "# Question 4"
   ]
  },
  {
   "cell_type": "code",
   "execution_count": null,
   "metadata": {},
   "outputs": [],
   "source": [
    "model4 = HouseholdSpecializationModelClass()\n",
    "\n",
    "para_opt = model4.estimate()\n",
    "\n",
    "alpha_opt = para_opt[0] # Optimal alpha parameter\n",
    "sigma_opt = para_opt[1] # Optimal sigma parameter\n",
    "\n",
    "print(f\" alpha = {alpha_opt: .3f} and sigma = {sigma_opt: .3f} minimizes the function.\")\n",
    "\n"
   ]
  },
  {
   "cell_type": "code",
   "execution_count": null,
   "metadata": {},
   "outputs": [],
   "source": [
    "model = HouseholdSpecializationModelClass(alpha=0.982, sigma = 0.1)\n",
    "\n",
    "PlotDataContinuous = model.solve_wF_vec()\n",
    "\n",
    "HF = PlotDataContinuous[3]\n",
    "HM = PlotDataContinuous[1]\n",
    "\n",
    "print(HF)\n",
    "print(HM)\n",
    "\n",
    "logHFHM = np.log(HF / HM)\n",
    "\n",
    "# Plot\n",
    "plt.scatter(logWFWH_list, logHFHM)\n",
    "plt.xlabel(\"log(WF/WM)\")\n",
    "plt.ylabel(\"log(HF/HM)\")\n",
    "plt.show()"
   ]
  }
 ],
 "metadata": {
  "kernelspec": {
   "display_name": "base",
   "language": "python",
   "name": "python3"
  },
  "language_info": {
   "codemirror_mode": {
    "name": "ipython",
    "version": 3
   },
   "file_extension": ".py",
   "mimetype": "text/x-python",
   "name": "python",
   "nbconvert_exporter": "python",
   "pygments_lexer": "ipython3",
   "version": "3.9.16"
  },
  "orig_nbformat": 4
 },
 "nbformat": 4,
 "nbformat_minor": 2
}
