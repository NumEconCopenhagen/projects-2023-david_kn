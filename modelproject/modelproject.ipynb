{
 "cells": [
  {
   "attachments": {},
   "cell_type": "markdown",
   "metadata": {},
   "source": [
    "# YOUR PROJECT TITLE"
   ]
  },
  {
   "attachments": {},
   "cell_type": "markdown",
   "metadata": {},
   "source": [
    "> **Note the following:** \n",
    "> 1. This is *not* meant to be an example of an actual **model analysis project**, just an example of how to structure such a project.\n",
    "> 1. Remember the general advice on structuring and commenting your code\n",
    "> 1. The `modelproject.py` file includes a function which could be used multiple times in this notebook."
   ]
  },
  {
   "attachments": {},
   "cell_type": "markdown",
   "metadata": {},
   "source": [
    "Imports and set magics:"
   ]
  },
  {
   "cell_type": "code",
   "execution_count": 34,
   "metadata": {},
   "outputs": [
    {
     "name": "stdout",
     "output_type": "stream",
     "text": [
      "The autoreload extension is already loaded. To reload it, use:\n",
      "  %reload_ext autoreload\n"
     ]
    }
   ],
   "source": [
    "import numpy as np\n",
    "from scipy import optimize\n",
    "import sympy as sm\n",
    "import EndogeneousGrowthModel as egm\n",
    "\n",
    "# autoreload modules when code is run\n",
    "%load_ext autoreload\n",
    "%autoreload 2\n"
   ]
  },
  {
   "attachments": {},
   "cell_type": "markdown",
   "metadata": {},
   "source": [
    "# Model description"
   ]
  },
  {
   "attachments": {},
   "cell_type": "markdown",
   "metadata": {},
   "source": [
    "**Write out the model in equations here.** \n",
    "\n",
    "Make sure you explain well the purpose of the model and comment so that other students who may not have seen it before can follow.  "
   ]
  },
  {
   "attachments": {},
   "cell_type": "markdown",
   "metadata": {},
   "source": [
    "Consider a **Growth model based on productive externalities** where we have four variables:\n",
    "\n",
    "1. $K_t$ is capital\n",
    "2. $L_t$ is labor (growing with a constant rate of $n$)\n",
    "3. $A_t$ is technology (growing with a constant rate of $g$)\n",
    "4. $Y_t$ is overall production output or GDP\n",
    "\n",
    "Further, we have five parameters:\n",
    "\n",
    "* $s$ is \n",
    "* $n$ is\n",
    "* $\\alpha$ is\n",
    "* $\\delta$ is\n",
    "* $\\phi$ is\n",
    "\n",
    "The model is a system of four equations:\n",
    "\n",
    "\n",
    "$$ \n",
    "Y_t = (K_t)^{\\alpha}(A_tL_t)^{1-\\alpha},\\,\\alpha\\in(0,1)\n",
    "$$\n",
    "\n",
    "$$ \n",
    "A_t = (K_t)^{\\phi},\\,\\phi\\in(0,1)\n",
    "$$\n",
    "\n",
    "$$ \n",
    "K_{t+1} = sY_t + (1-\\delta)K_t,\\,   s,\\delta\\in(0,1), \\,\\,\\, K_0 \\, given\n",
    "$$\n",
    "\n",
    "$$ \n",
    "L_{t+1} = (1+n)L_t,\\, n<1, \\,\\,\\, L_0 \\, given\n",
    "$$\n",
    "\n",
    "Using \"EndogeneousGrowthModelClass\" from \"egm\" module, we can simulate it: "
   ]
  },
  {
   "cell_type": "code",
   "execution_count": 35,
   "metadata": {},
   "outputs": [
    {
     "name": "stdout",
     "output_type": "stream",
     "text": [
      "initializing the model:\n",
      "calling .setup()\n",
      "The model simulates from period 0 to T\n",
      "calling .allocate()\n",
      "simulation done in 0.00 secs\n",
      "namespace(s=0.5, n=0.1, alpha=0.5, delta=0.2, phi=0.5, K_lag_ini=1.0, L_lag_ini=1.0, simT=6)\n",
      "namespace(K=array([1.        , 1.3       , 1.67844555, 2.15379804, 2.74860242,\n",
      "       3.4903668 ]), L=array([1.     , 1.1    , 1.21   , 1.331  , 1.4641 , 1.61051]), A=array([1.        , 1.14017543, 1.29554836, 1.46758238, 1.65789096,\n",
      "       1.86825234]), S=array([0.5       , 0.63844555, 0.8110416 , 1.02556399, 1.29148486,\n",
      "       1.62033577]), Y=array([1.        , 1.27689109, 1.6220832 , 2.05112799, 2.58296971,\n",
      "       3.24067153]), w=array([0.5       , 0.58040504, 0.67028232, 0.77052141, 0.88210154,\n",
      "       1.00610103]), r=array([0.5       , 0.49111196, 0.48320996, 0.47616535, 0.46986965,\n",
      "       0.4642308 ]))\n"
     ]
    }
   ],
   "source": [
    "model = egm.EndogeneousGrowthModelClass()\n",
    "\n",
    "model.simulate()\n",
    "\n",
    "print(model.par)\n",
    "print(model.sim)\n"
   ]
  },
  {
   "cell_type": "code",
   "execution_count": null,
   "metadata": {},
   "outputs": [],
   "source": [
    "def capital_labor_ratio(K=1, L=1, alpha=0.5, phi=0.5, s=0.5, delta=0.2, n=0.1, period=20):\n",
    "\n",
    "    K_acc = Capital_accumulation(K,L,alpha,phi,s,delta,n,period)\n",
    "    L_acc = Labor_accumulation(L,n,period)\n",
    "    ratio = K_acc/L_acc\n",
    "    \n",
    "    return ratio\n",
    "\n",
    "def output_labor_ratio(K=1, L=1, alpha=0.5, phi=0.5, s=0.5, delta=0.2, n=0.1, period=20):\n",
    "    \n",
    "    K_acc = Capital_accumulation(K,L,alpha,phi,s,delta,n,period)\n",
    "    L_acc = Labor_accumulation(L,n,period)\n",
    "    Y_acc = Production_function(K_acc, L_acc, alpha, phi)\n",
    "    ratio = Y_acc/L_acc\n",
    "    \n",
    "    return ratio\n",
    "\n",
    "def techAdjust_KLratio(K=1, L=1, alpha=0.5, phi=0.5, s=0.5, delta=0.2, n=0.1, period=20):\n",
    "\n",
    "    K_acc = Capital_accumulation(K,L,alpha,phi,s,delta,n,period)\n",
    "    L_acc = Labor_accumulation(L,n,period)\n",
    "    A_acc = Technology(K_acc,phi)\n",
    "    ratio = K_acc/(A_acc*L_acc)\n",
    "\n",
    "    return ratio\n",
    "\n",
    "def techAdjust_YLratio(K=1, L=1, alpha=0.5, phi=0.5, s=0.5, delta=0.2, n=0.1, period=20):\n",
    "    \n",
    "    K_acc = Capital_accumulation(K,L,alpha,phi,s,delta,n,period)\n",
    "    L_acc = Labor_accumulation(L,n,period)\n",
    "    Y_acc = Production_function(K_acc, L_acc, alpha, phi)\n",
    "    A_acc = Technology(K_acc,phi)\n",
    "    ratio = Y_acc/(A_acc*L_acc)\n",
    "    \n",
    "    return ratio \n",
    "\n",
    "y = Production_function(1,1,0.5)\n",
    "a = Technology(3,1)\n",
    "s = Savings(2,4,0.3,1,0.3)\n",
    "K = Capital_accumulation(1,1,0.5,1,0.5,0.2,0.1,5)\n",
    "L = Labor_accumulation(1,0.1,5)\n",
    "k = capital_labor_ratio()\n",
    "y = output_labor_ratio()\n",
    "k_tilde = techAdjust_KLratio()\n",
    "y_tilde = techAdjust_YLratio()\n",
    "\n",
    "\n",
    "\n",
    "print(y)\n",
    "print(a)\n",
    "print(s)\n",
    "print(K)\n",
    "print(L)\n",
    "print(k)\n",
    "print(y)\n",
    "print(k_tilde)\n",
    "print(y_tilde)\n"
   ]
  },
  {
   "attachments": {},
   "cell_type": "markdown",
   "metadata": {},
   "source": [
    "## Analytical solution"
   ]
  },
  {
   "attachments": {},
   "cell_type": "markdown",
   "metadata": {},
   "source": [
    "If your model allows for an analytical solution, you should provide here.\n",
    "\n",
    "You may use Sympy for this. Then you can characterize the solution as a function of a parameter of the model.\n",
    "\n",
    "To characterize the solution, first derive a steady state equation as a function of a parameter using Sympy.solve and then turn it into a python function by Sympy.lambdify. See the lecture notes for details. "
   ]
  },
  {
   "attachments": {},
   "cell_type": "markdown",
   "metadata": {},
   "source": [
    "First, we apply sympy to solve for the steady-state of capital. This is done by isolating $k^{\\ast}$ in the following equation: \n",
    "\n",
    "$$ \n",
    " \\tilde{k}^{\\ast} = \\frac{1}{1+n}\\tilde{k}^{\\ast}\\left[s(\\tilde{k}^{\\ast})^{\\alpha-1}+(1-\\delta)\\right]^{1-\\phi}\n",
    "$$\n",
    "\n",
    "or\n",
    "\n",
    "$$ \n",
    " \\tilde{k}^{\\ast} = \\left(\\frac{1}{1+n}\\right)^\\frac{1}{1-\\phi}\\left[s(\\tilde{k}^{\\ast})^{\\alpha}+(1-\\delta)k^{\\ast}\\right]\n",
    "$$\n",
    "\n",
    "\n"
   ]
  },
  {
   "cell_type": "code",
   "execution_count": null,
   "metadata": {},
   "outputs": [],
   "source": [
    "k = sm.symbols('k')\n",
    "s = sm.symbols('s')\n",
    "n = sm.symbols('n')\n",
    "alpha = sm.symbols('alpha')\n",
    "delta = sm.symbols('delta')\n",
    "phi = sm.symbols('phi')\n"
   ]
  },
  {
   "cell_type": "code",
   "execution_count": null,
   "metadata": {},
   "outputs": [],
   "source": [
    "try:\n",
    "    f = k**alpha\n",
    "    ss = sm.Eq(k,(s*f+(1-delta)*k)*(1/(1-n))**(1/(1-phi)))\n",
    "    kss = sm.solve(ss,k)\n",
    "    kss\n",
    "except:\n",
    "    print('SymPy could not solve the problem analytically.')"
   ]
  },
  {
   "attachments": {},
   "cell_type": "markdown",
   "metadata": {},
   "source": [
    "We see, that altough it is possible to solve the steady-state of capital analytically, Sympy could do it. The correct solution would have been:\n",
    "\n",
    "$$\n",
    " \\tilde{k}^{\\ast} = \\left[\\frac{s}{(1+n)^\\frac{1}{1-\\phi}-(1-\\delta)}\\right]^{\\frac{1}{1-\\alpha}}    \n",
    "$$"
   ]
  },
  {
   "attachments": {},
   "cell_type": "markdown",
   "metadata": {},
   "source": [
    "## Numerical solution"
   ]
  },
  {
   "attachments": {},
   "cell_type": "markdown",
   "metadata": {},
   "source": [
    "You can always solve a model numerically. \n",
    "\n",
    "Define first the set of parameters you need. \n",
    "\n",
    "Then choose one of the optimization algorithms that we have gone through in the lectures based on what you think is most fitting for your model.\n",
    "\n",
    "Are there any problems with convergence? Does the model converge for all starting values? Make a lot of testing to figure these things out. "
   ]
  },
  {
   "cell_type": "code",
   "execution_count": null,
   "metadata": {},
   "outputs": [],
   "source": [
    "def kss(s,n,alpha,delta,phi):\n",
    "\n",
    "    obj_ss = lambda ss: ss - (1/(1+n))**(1/(1-phi)) * (s*ss**alpha+(1-delta)*ss)\n",
    "    solution = optimize.fsolve(obj_ss, [0.1,200])\n",
    "    return solution[0]\n",
    "\n",
    "def yss(s,n,alpha,delta,phi):\n",
    "    ss = kss(s,n,alpha,delta,phi)**alpha\n",
    "    return ss\n",
    "\n",
    "s = 0.5\n",
    "n = 1\n",
    "alpha = 0.5\n",
    "delta = 0.5\n",
    "phi = 0.5\n",
    "\n",
    "print(f'steady-state values for: \\n k_tilde: {kss(s,n,alpha,delta,phi):.3f} \\n y_tilde: {yss(s,n,alpha,delta,phi):.3f}')"
   ]
  },
  {
   "attachments": {},
   "cell_type": "markdown",
   "metadata": {},
   "source": [
    "# Further analysis"
   ]
  },
  {
   "attachments": {},
   "cell_type": "markdown",
   "metadata": {},
   "source": [
    "Make detailed vizualizations of how your model changes with parameter values. \n",
    "\n",
    "Try to make an extension of the model. "
   ]
  },
  {
   "attachments": {},
   "cell_type": "markdown",
   "metadata": {},
   "source": [
    "# Conclusion"
   ]
  },
  {
   "attachments": {},
   "cell_type": "markdown",
   "metadata": {},
   "source": [
    "To summarize, in this project, we have...\n",
    "\n",
    "construct a model, semi-endogeneous growth, externalities. \n",
    "\n",
    "Analyzed how steady-state growth in capital, technology and output behaves changing parameters. We have found that... And so..."
   ]
  }
 ],
 "metadata": {
  "kernelspec": {
   "display_name": "base",
   "language": "python",
   "name": "python3"
  },
  "language_info": {
   "codemirror_mode": {
    "name": "ipython",
    "version": 3
   },
   "file_extension": ".py",
   "mimetype": "text/x-python",
   "name": "python",
   "nbconvert_exporter": "python",
   "pygments_lexer": "ipython3",
   "version": "3.9.16"
  },
  "toc-autonumbering": true,
  "vscode": {
   "interpreter": {
    "hash": "47ef90cdf3004d3f859f1fb202523c65c07ba7c22eefd261b181f4744e2d0403"
   }
  }
 },
 "nbformat": 4,
 "nbformat_minor": 4
}
